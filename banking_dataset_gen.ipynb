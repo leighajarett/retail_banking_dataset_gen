{
 "cells": [
  {
   "cell_type": "markdown",
   "metadata": {},
   "source": [
    "# Imports & Config"
   ]
  },
  {
   "cell_type": "code",
   "execution_count": null,
   "metadata": {},
   "outputs": [],
   "source": [
    "import pandas as pd\n",
    "from collections import Counter\n",
    "import numpy as np\n",
    "import datetime \n",
    "import random\n",
    "from random import randrange\n",
    "import os \n",
    "import faker\n",
    "from faker import Faker\n",
    "from random import randint\n",
    "from dateutil.relativedelta import *\n",
    "import copy\n",
    "import importlib"
   ]
  },
  {
   "cell_type": "code",
   "execution_count": null,
   "metadata": {},
   "outputs": [],
   "source": [
    "#connect BQ\n",
    "from google.cloud import bigquery\n",
    "\n",
    "#os.environ['GOOGLE_APPLICATION_CREDENTIALS'] = '/Users/leighajarett/Documents/service accounts/looker-private-demo-d589d7060d61.json'\n",
    "os.environ['GOOGLE_APPLICATION_CREDENTIALS'] = '/Users/leighajarett/Documents/service accounts/lookerdata-e7f3d750308e.json'\n",
    "\n",
    "bq_client = bigquery.Client()"
   ]
  },
  {
   "cell_type": "code",
   "execution_count": null,
   "metadata": {},
   "outputs": [],
   "source": [
    "#connect Looker\n",
    "from looker_sdk import client, models, error\n",
    "from run_look_with_filters import run_look_with_filters\n",
    "\n",
    "#sdk = client.setup(\"/Users/leighajarett/looker.ini\")\n",
    "sdk = client.setup(\"/Users/leighajarett/looker_pebl.ini\")"
   ]
  },
  {
   "cell_type": "markdown",
   "metadata": {},
   "source": [
    "# Changing Districts"
   ]
  },
  {
   "cell_type": "code",
   "execution_count": null,
   "metadata": {},
   "outputs": [],
   "source": [
    "new_districts = pd.read_excel('/Users/leighajarett/Documents/retail_banking/district_to_zip.xlsx')"
   ]
  },
  {
   "cell_type": "code",
   "execution_count": null,
   "metadata": {},
   "outputs": [],
   "source": [
    "#new_districts['city'].unique()"
   ]
  },
  {
   "cell_type": "code",
   "execution_count": null,
   "metadata": {},
   "outputs": [],
   "source": [
    "# query_to_run = 'select *, '\n",
    "# end = 'FROM `lookerdata.retail_banking.district`'\n",
    "# for i in range(len(new_districts)):\n",
    "#     if i == 0:\n",
    "#         new_string = 'case when district_id = ' \n",
    "#     else:\n",
    "#         new_string = 'when district_id = '\n",
    "#     new_string += str(new_districts['district_code'][i])\n",
    "#     new_string += ' then %s' % ('\"' + str(new_districts['zipcode'][i]) + '\"')\n",
    "#     print(new_string)"
   ]
  },
  {
   "cell_type": "markdown",
   "metadata": {},
   "source": [
    "# Changing the Credit Card Table"
   ]
  },
  {
   "cell_type": "markdown",
   "metadata": {},
   "source": [
    "Import Original Cards Table From BQ - base data comes from here https://data.world/lpetrocelli/czech-financial-dataset-real-anonymized-transactions"
   ]
  },
  {
   "cell_type": "code",
   "execution_count": null,
   "metadata": {},
   "outputs": [],
   "source": [
    "sql = 'SELECT * FROM `lookerdata.retail_banking.card` '\n",
    "cards = bq_client.query(sql).to_dataframe()"
   ]
  },
  {
   "cell_type": "code",
   "execution_count": null,
   "metadata": {},
   "outputs": [],
   "source": [
    "Counter(cards['type'])"
   ]
  },
  {
   "cell_type": "markdown",
   "metadata": {},
   "source": [
    "We want to create two new card types: junior2 and classic2, people who joined each month and had < 60000, or >40000, and had either Junior or Classic, as the latest balance "
   ]
  },
  {
   "cell_type": "code",
   "execution_count": null,
   "metadata": {},
   "outputs": [],
   "source": [
    "q = sdk.look(22).query\n",
    "filters = q.filters"
   ]
  },
  {
   "cell_type": "code",
   "execution_count": null,
   "metadata": {},
   "outputs": [],
   "source": [
    "for card_type in (['junior2', 'classic2']):\n",
    "    total_number = 0\n",
    "    number_changed = 0\n",
    "    filters = {}\n",
    "    \n",
    "    if card_type == 'Junior2':\n",
    "        filters['card.type'] = 'Classic,Junior'\n",
    "        filters['account_latest_balance.latest_balance'] = '<60000'\n",
    "    else:\n",
    "        filters['card.type'] = 'Classic'\n",
    "        filters['account_latest_balance.latest_balance'] = '>40000'\n",
    "\n",
    "    \n",
    "    for month in range(1,13):\n",
    "        for year in range(1993,1997):\n",
    "            print(month,'-',year)\n",
    "            mt = str(month)\n",
    "            yr = str(year)\n",
    "            if len(mt) > 1:\n",
    "                filters['account.create_month'] = '%s-%s' %(yr,mt)\n",
    "            else:\n",
    "                filters['account.create_month'] = '%s-0%s' %(yr,mt)\n",
    "            results = run_look_with_filters(22,filters,sdk)\n",
    "            total_number += len(results)\n",
    "            if len(results) > 2:\n",
    "                #figure out how many cards we want to convert\n",
    "                print(int(round(.7*len(results))))\n",
    "                n = randrange(int(round(.7*len(results)))) # up to 70% of the results\n",
    "                number_changed += n\n",
    "                for i in range(n):\n",
    "                    #print(results)\n",
    "                    card_id = results[randrange(len(results))]['card.card_id'] #random index \n",
    "                    cards.loc[cards['card_id'] == card_id,'type'] = card_type\n",
    "    \n",
    "        print('Total number for ', card_type, ': ', total_number)\n",
    "        print('Number changed for ', card_type, ': ', number_changed)"
   ]
  },
  {
   "cell_type": "code",
   "execution_count": null,
   "metadata": {
    "scrolled": true
   },
   "outputs": [],
   "source": [
    "Counter(cards['type'])"
   ]
  },
  {
   "cell_type": "markdown",
   "metadata": {},
   "source": [
    "We also want to make end dates for some cards, and introduce new cards so they can have more than one at one time \n",
    "or convert to other cards.\n",
    "\n",
    "Introduce a few scenarios..."
   ]
  },
  {
   "cell_type": "markdown",
   "metadata": {},
   "source": [
    "1. 90% of people who are in the age group 18-25 and have a Junior1\n",
    "        --> make it so they switched to either classic or Junior1 after ~1 years"
   ]
  },
  {
   "cell_type": "code",
   "execution_count": null,
   "metadata": {},
   "outputs": [],
   "source": [
    "#initialize end date column\n",
    "cards['end_date'] = np.nan\n",
    "#cards['date'] = cards['date'].apply(lambda x: datetime.datetime.strptime(x,'%Y%m%d %H:%M:%S')) \n",
    "#cards['date'] = cards['date'].apply(lambda x: pd.Timestamp(x))\n",
    "#cards['date'] = cards['date'].dt.to_pydatetime() "
   ]
  },
  {
   "cell_type": "code",
   "execution_count": null,
   "metadata": {
    "scrolled": true
   },
   "outputs": [],
   "source": [
    "filters['account.create_month'] = ''\n",
    "filters['card.type'] = 'Junior'\n",
    "filters['account_latest_balance.latest_balance'] = ''\n",
    "filters['client.age_tier'] = '18 to 24'\n",
    "\n",
    "results = run_look_with_filters(22,filters,sdk)\n",
    "results = pd.DataFrame(results)\n",
    "\n",
    "#randomly choose 90% of card holders\n",
    "results = results.sample(frac=1)[0:round(len(results)*.9)].reset_index()\n",
    "\n",
    "#randomly generate a normal distribution of time they convert to next card, and the time they take to cancel previous\n",
    "days_to_add = list(np.random.normal(365, 150, len(results)))\n",
    "days_to_cancel = list(np.random.normal(30*3, 25, len(results)))\n",
    "\n",
    "#70% will go to Junior1 and 30% will go to classic1\n",
    "new_card_id = max(cards['card_id'])\n",
    "new_cards = []\n",
    "\n",
    "for i in range(len(results)):\n",
    "    card_id = results.loc[i,'card.card_id']\n",
    "    disp_id = cards.loc[cards['card_id'] == card_id,'disp_id'].values[0]\n",
    "\n",
    "    new_card_id += 1\n",
    "    new_card_date = pd.to_datetime(cards.loc[cards['card_id'] == card_id,'date'\n",
    "                             ].values[0]) + datetime.timedelta(days=days_to_add.pop()) \n",
    "    \n",
    "    #fix dates that were created after they should have been\n",
    "    if pd.to_datetime(new_card_date) > datetime.datetime(1998,12,31,0,0):\n",
    "        delta = datetime.datetime(1998,12,31,0,0) - datetime.datetime(1997,12,31,0,0)\n",
    "        int_delta = (delta.days * 24 * 60 * 60) + delta.seconds\n",
    "        new_card_date = datetime.datetime(1997,12,31,0,0) + datetime.timedelta(seconds=randrange(int_delta))\n",
    "    \n",
    "    cancel_date = new_card_date +datetime.timedelta(days=days_to_cancel.pop()) \n",
    "    \n",
    "    if pd.to_datetime(cancel_date) > datetime.datetime(1998,12,31,0,0):\n",
    "        cancel_date = np.nan\n",
    "    \n",
    "    if i < round(round(len(results)*.9)*.7):\n",
    "        card_type = 'junior2'\n",
    "    else:\n",
    "        card_type = 'classic'\n",
    "        \n",
    "    #update end_date for existing\n",
    "    cards.loc[cards['card_id'] == card_id,'end_date'] = cancel_date \n",
    "    \n",
    "    #update cards\n",
    "    new_card = dict()\n",
    "    new_card['card_id'] = new_card_id\n",
    "    new_card['disp_id'] = disp_id\n",
    "    new_card['type'] = card_type\n",
    "    new_card['date'] = new_card_date\n",
    "    new_card['end_date'] = np.nan\n",
    "    new_cards.append(new_card)\n",
    "\n",
    "cards = cards.append(pd.DataFrame(new_cards))    "
   ]
  },
  {
   "cell_type": "code",
   "execution_count": null,
   "metadata": {},
   "outputs": [],
   "source": [
    "Counter(cards['type'])"
   ]
  },
  {
   "cell_type": "code",
   "execution_count": null,
   "metadata": {
    "scrolled": true
   },
   "outputs": [],
   "source": [
    "Counter(cards[~cards['end_date'].isnull()]['type'])"
   ]
  },
  {
   "cell_type": "markdown",
   "metadata": {},
   "source": [
    "2. 70% of People with gold card started with either Junior1, Classic1 or Classic2\n",
    "        --> 20% of came from gold first\n",
    "        --> 60% of came from Classic2\n",
    "        --> 10% of came from Junior1\n",
    "        --> 10% of came from Classic\n",
    "        \n",
    "        --> 10% of the above ^ canceled their first card sometime after joining"
   ]
  },
  {
   "cell_type": "code",
   "execution_count": null,
   "metadata": {},
   "outputs": [],
   "source": [
    "filters['account.create_month'] = ''\n",
    "filters['card.type'] = 'Gold'\n",
    "filters['account_fact.latest_balance'] = ''\n",
    "filters['client.age_tier'] = ''\n",
    "\n",
    "results = run_look_with_filters(22,filters,sdk)\n",
    "results = pd.DataFrame(results).sample(frac=1).reset_index()\n",
    "\n",
    "ix_cl = round(len(results)*.6)\n",
    "ix_j2 = ix_cl+round(len(results)*.1)\n",
    "ix_cl2 = ix_j2+round(len(results)*.1)\n",
    "\n",
    "rand_10 = random.sample(range(0, ix_cl2), round(ix_cl2*.25))\n",
    "\n",
    "#for each...\n",
    "#change the original card_type \n",
    "#then randomly chose a date between now and when the original card was created to sign up for gold\n",
    "#also if index is in randomly chosen 10% then chose an end date for the gold card\n",
    "\n",
    "new_cards = []\n",
    "new_card_id = max(cards['card_id'])\n",
    "curr_ix = 0\n",
    "for ix in [ix_cl,ix_j2,ix_cl2]:\n",
    "    for i in range(curr_ix,ix):\n",
    "        card_id = results.loc[i,'card.card_id']\n",
    "        disp_id = cards.loc[cards['card_id'] == card_id,'disp_id'].values[0]\n",
    "        if ix == ix_cl:\n",
    "            card_type = 'classic2'\n",
    "        elif ix == ix_j2:\n",
    "            card_type = 'junior2'\n",
    "        else:\n",
    "            card_type = 'classic'\n",
    "        \n",
    "        cards.loc[cards['card_id'] == card_id,'type'] = card_type\n",
    "\n",
    "        new_card_id += 1\n",
    "        \n",
    "        created_date = pd.to_datetime(cards.loc[cards['card_id'] == card_id,'date'\n",
    "                             ].values[0])\n",
    "        \n",
    "        if created_date > datetime.datetime(1998,12,31,0,0):\n",
    "            delta = datetime.datetime(1998,12,31,0,0) - datetime.datetime(1997,12,31,0,0)\n",
    "            int_delta = (delta.days * 24 * 60 * 60) + delta.seconds\n",
    "            created_date = datetime.datetime(1997,12,31,0,0) + datetime.timedelta(seconds=randrange(int_delta))\n",
    "        \n",
    "        new_card_date = created_date + datetime.timedelta(days=randrange((\n",
    "            datetime.datetime(1998, 12, 31, 0, 0) - created_date).days)) \n",
    "        \n",
    "        if new_card_date > datetime.datetime(1998,12,31,0,0):\n",
    "            new_card_date = datetime.datetime(1998, 12, 31, 0, 0)\n",
    "        \n",
    "        new_cancel_date = np.nan\n",
    "        \n",
    "        if i in rand_10[0:15]:\n",
    "            new_cancel_date = new_card_date + datetime.timedelta(days=randrange((\n",
    "                datetime.datetime(1998, 12, 31, 0, 0) - new_card_date).days)) \n",
    "        \n",
    "        elif i in rand_10[15:]:\n",
    "            cards.loc[cards['card_id'] == card_id,'end_date'] = created_date + datetime.timedelta(days=randrange((\n",
    "                datetime.datetime(1998, 12, 31, 0, 0) - created_date).days)) \n",
    "        \n",
    "        \n",
    "        #update cards\n",
    "        new_card = dict()\n",
    "        new_card['card_id'] = new_card_id\n",
    "        new_card['disp_id'] = disp_id\n",
    "        new_card['type'] = 'gold'\n",
    "        new_card['date'] = new_card_date\n",
    "        new_card['end_date'] = new_cancel_date\n",
    "        new_cards.append(new_card)\n",
    "        \n",
    "    curr_ix = ix\n",
    "cards = cards.append(pd.DataFrame(new_cards))   "
   ]
  },
  {
   "cell_type": "code",
   "execution_count": null,
   "metadata": {},
   "outputs": [],
   "source": [
    "Counter(cards['type'])"
   ]
  },
  {
   "cell_type": "code",
   "execution_count": null,
   "metadata": {},
   "outputs": [],
   "source": [
    "Counter(cards[~cards['end_date'].isnull()]['type'])"
   ]
  },
  {
   "cell_type": "markdown",
   "metadata": {},
   "source": [
    "3. 70% People convert with classic2 came from classic"
   ]
  },
  {
   "cell_type": "code",
   "execution_count": null,
   "metadata": {},
   "outputs": [],
   "source": [
    "results = cards.loc[cards['type']=='classic2'].reset_index()\n",
    "\n",
    "#randomly generate a normal distribution of time they convert to next card, and the time they take to cancel previous\n",
    "days_to_add = list(np.random.normal(365, 150, len(results)))\n",
    "days_to_cancel = list(np.random.normal(30*3, 25, len(results)))\n",
    "\n",
    "new_cards = []\n",
    "new_card_id = max(cards['card_id'])\n",
    "\n",
    "for i in range(0,round(len(results)*.6)):\n",
    "    card_id = results.loc[i,'card_id']\n",
    "    disp_id = cards.loc[cards['card_id'] == card_id,'disp_id'].values[0]\n",
    "    new_card_id += 1\n",
    "    \n",
    "    created_date = pd.to_datetime(cards.loc[cards['card_id'] == card_id,'date'\n",
    "                             ].values[0])\n",
    "    \n",
    "    if created_date > datetime.datetime(1998,12,31,0,0):\n",
    "        delta = datetime.datetime(1998,12,31,0,0) - datetime.datetime(1997,12,31,0,0)\n",
    "        int_delta = (delta.days * 24 * 60 * 60) + delta.seconds\n",
    "        created_date = datetime.datetime(1997,12,31,0,0) + datetime.timedelta(seconds=randrange(int_delta))\n",
    "        \n",
    "    \n",
    "    new_card_date = created_date - datetime.timedelta(days=days_to_add.pop()) \n",
    "    \n",
    "    if new_card_date > datetime.datetime(1998,12,31,0,0):\n",
    "        delta = datetime.datetime(1998,12,31,0,0) - created_date\n",
    "        new_card_date = created_date - datetime.timedelta(days=randrange(delta))\n",
    "    \n",
    "    cancel_date = created_date + datetime.timedelta(days=days_to_cancel.pop()) \n",
    "    \n",
    "    if cancel_date > datetime.datetime(1998,12,31,0,0):\n",
    "        delta = datetime.datetime(1998,12,31,0,0) - created_date\n",
    "        cancel_date = created_date + datetime.timedelta(days=randrange(delta.days))\n",
    "    \n",
    "    \n",
    "    cards.loc[cards['card_id'] == card_id,'end_date'] = np.nan \n",
    "    \n",
    "    new_card = dict()\n",
    "    new_card['card_id'] = new_card_id\n",
    "    new_card['disp_id'] = disp_id\n",
    "    new_card['type'] = 'classic'\n",
    "    new_card['date'] = new_card_date\n",
    "    new_card['end_date'] = cancel_date\n",
    "    new_cards.append(new_card)\n",
    "\n",
    "cards = cards.append(pd.DataFrame(new_cards))     "
   ]
  },
  {
   "cell_type": "code",
   "execution_count": null,
   "metadata": {},
   "outputs": [],
   "source": [
    "Counter(cards['type'])"
   ]
  },
  {
   "cell_type": "code",
   "execution_count": null,
   "metadata": {},
   "outputs": [],
   "source": [
    "Counter(cards[~cards['end_date'].isnull()]['type'])"
   ]
  },
  {
   "cell_type": "code",
   "execution_count": null,
   "metadata": {},
   "outputs": [],
   "source": [
    "cards = cards.reset_index()\n",
    "cards['end_date'] = cards['end_date'].apply(lambda x: pd.to_datetime(x))\n",
    "cards.loc[cards['end_date'] < cards['date'],'end_date'] = cards.loc[cards['end_date'] < cards['date'],['date','end_date']].apply(\n",
    "    lambda x:  x['date'] + datetime.timedelta(days = randrange((datetime.datetime(1998,12,31,0,0) - x['date']).days))\n",
    "                                              ,axis=1)"
   ]
  },
  {
   "cell_type": "markdown",
   "metadata": {},
   "source": [
    "Write the cards back to the database"
   ]
  },
  {
   "cell_type": "code",
   "execution_count": null,
   "metadata": {},
   "outputs": [],
   "source": [
    "os.environ['GOOGLE_APPLICATION_CREDENTIALS'\n",
    "          ] = '/Users/leighajarett/Documents/service accounts/looker-private-demo-d589d7060d61.json'\n",
    "bq_client = bigquery.Client()"
   ]
  },
  {
   "cell_type": "code",
   "execution_count": null,
   "metadata": {
    "scrolled": true
   },
   "outputs": [],
   "source": [
    "cards.to_gbq('retail_banking.base_card',if_exists = 'replace')\n",
    "\n",
    "# sql = \"create or replace table `looker-private-demo.retail_banking.base_card`  \\\n",
    "# as \\\n",
    "# SELECT * except(date, end_date) \\\n",
    "#   , CAST(PARSE_DATETIME('%Y-%m-%d', date) as date) as date \\\n",
    "#   , CAST(PARSE_DATETIME('%Y-%m-%d', end_date) as date) as end_date \\\n",
    "#   FROM `looker-private-demo.retail_banking.base_card`\"\n",
    "# print(bq_client.query(sql).to_dataframe())"
   ]
  },
  {
   "cell_type": "markdown",
   "metadata": {},
   "source": [
    "# Adding to the Clients Table "
   ]
  },
  {
   "cell_type": "code",
   "execution_count": null,
   "metadata": {},
   "outputs": [],
   "source": [
    "#import os\n",
    "os.chdir(\"/Users/leighajarett/Sparkov_Data_Generation/\")\n",
    "import datagen_customer\n",
    "importlib.reload(datagen_customer)\n",
    "from datagen_customer import Headers, Customer\n",
    "#from demographics import make_cities, make_age_gender_dict\n",
    "import main_config\n",
    "importlib.reload(main_config)\n",
    "from main_config import MainConfig\n",
    "#os.chdir(\"/Users/leighajarett/\")"
   ]
  },
  {
   "cell_type": "code",
   "execution_count": null,
   "metadata": {},
   "outputs": [],
   "source": [
    "# seed_num = 4444\n",
    "# cities = make_cities()\n",
    "# age_gender = make_age_gender_dict()\n",
    "# fake = Faker()\n",
    "# Faker.seed(seed_num)"
   ]
  },
  {
   "cell_type": "code",
   "execution_count": null,
   "metadata": {},
   "outputs": [],
   "source": [
    "import run_look_with_filters\n",
    "importlib.reload(run_look_with_filters)\n",
    "from run_look_with_filters import run_look_with_filters\n",
    "from looker_sdk import client, models, error"
   ]
  },
  {
   "cell_type": "markdown",
   "metadata": {},
   "source": [
    "Get original clients table"
   ]
  },
  {
   "cell_type": "code",
   "execution_count": null,
   "metadata": {
    "scrolled": true
   },
   "outputs": [],
   "source": [
    "os.chdir(\"/Users/leighajarett/\")\n",
    "sdk = client.setup(\"/Users/leighajarett/looker.ini\")\n",
    "\n",
    "q = sdk.look(410).query\n",
    "filters = q.filters\n",
    "\n",
    "clients_ = run_look_with_filters(410,filters,sdk)\n",
    "clients_ = pd.DataFrame(clients_)\n",
    "\n",
    "os.chdir(\"/Users/leighajarett/Sparkov_Data_Generation/\")"
   ]
  },
  {
   "cell_type": "markdown",
   "metadata": {},
   "source": [
    "For each client, go through and create a Customer object, which will randomly generate other attributes"
   ]
  },
  {
   "cell_type": "code",
   "execution_count": null,
   "metadata": {},
   "outputs": [],
   "source": [
    "headers = Headers()\n",
    "headers.save_headers_to_file('clients_data.csv')"
   ]
  },
  {
   "cell_type": "code",
   "execution_count": null,
   "metadata": {
    "scrolled": true
   },
   "outputs": [],
   "source": [
    "fake = Faker()\n",
    "Faker.seed(444)\n",
    "\n",
    "client_array = []\n",
    "for i in range(len(clients_)):\n",
    "    client_ = clients_.iloc[i]\n",
    "    if client_['district.city'] == 'Longmount':\n",
    "        cust = Customer(fake, client_['client.gender'],client_['client.birth_date'], 'Longmont')\n",
    "    elif client_['district.city'] == 'Thornton':\n",
    "        cust = Customer(fake, client_['client.gender'],client_['client.birth_date'], 'Denver')\n",
    "    else:\n",
    "        cust = Customer(fake, client_['client.gender'],client_['client.birth_date'], client_['district.city'])\n",
    "    c = cust.print_customer()\n",
    "    c['client_id'] = client_['client.client_id']\n",
    "    c['district_id'] = client_['client.district_id']\n",
    "    c['card_id'] = client_['card.card_id']\n",
    "    c['disp_id'] = client_['disp.disp_id']\n",
    "    cust.save_to_file('clients_data.csv')\n",
    "    \n",
    "    client_array.append(c)"
   ]
  },
  {
   "cell_type": "markdown",
   "metadata": {},
   "source": [
    "Make a mapping of cc_number to card_id"
   ]
  },
  {
   "cell_type": "code",
   "execution_count": null,
   "metadata": {},
   "outputs": [],
   "source": [
    "new_client_df = pd.DataFrame(client_array)"
   ]
  },
  {
   "cell_type": "code",
   "execution_count": null,
   "metadata": {},
   "outputs": [],
   "source": [
    "Counter(new_client_df['profile'])"
   ]
  },
  {
   "cell_type": "markdown",
   "metadata": {},
   "source": [
    "Make sure to take out the duplicate rows for client id after we match credit card numbers"
   ]
  },
  {
   "cell_type": "code",
   "execution_count": null,
   "metadata": {
    "scrolled": true
   },
   "outputs": [],
   "source": [
    "card_lookup = dict(zip(new_client_df['card_id'],new_client_df['cc_number']))\n",
    "rev_card_lookup = dict(zip(new_client_df['cc_number'],new_client_df['card_id']))\n",
    "new_client_df = new_client_df.loc[:,['ssn','first_name','last_name','gender','street','address',\n",
    "              'job','dob','profile','client_id','district_id','disp_id']]\n",
    "new_client_df = new_client_df.drop_duplicates('client_id','first')"
   ]
  },
  {
   "cell_type": "markdown",
   "metadata": {},
   "source": [
    "Add card numbers to table"
   ]
  },
  {
   "cell_type": "code",
   "execution_count": null,
   "metadata": {
    "scrolled": true
   },
   "outputs": [],
   "source": [
    "#query_to_run = 'create or replace table `retail_banking.base_card` as (select * except (card_number), '\n",
    "query_to_run = 'create or replace table `retail_banking.base_card` as (select *, '\n",
    "end = ' FROM `retail_banking.base_card` )'\n",
    "for i in range(len(card_lookup.keys())):\n",
    "    if i == 0:\n",
    "        new_string = 'case when card_id = ' \n",
    "    else:\n",
    "        new_string = ' when card_id = '\n",
    "    new_string += str(list(card_lookup.keys())[i])\n",
    "    new_string += ' then %s' % ('\"' + str(card_lookup[list(card_lookup.keys())[i]]) + '\"')\n",
    "    query_to_run += new_string \n",
    "query_to_run += ' else null end as card_number' + end"
   ]
  },
  {
   "cell_type": "code",
   "execution_count": null,
   "metadata": {},
   "outputs": [],
   "source": [
    "q_result = bq_client.query(query_to_run)\n",
    "q_result.to_dataframe()"
   ]
  },
  {
   "cell_type": "markdown",
   "metadata": {},
   "source": [
    "Replace client table"
   ]
  },
  {
   "cell_type": "code",
   "execution_count": null,
   "metadata": {},
   "outputs": [],
   "source": [
    "def create_traffice_source(profile):\n",
    "    traffic_sources = ['Mailer','Email','Call Center','Website','Third Party Advertisement']\n",
    "    if 'young_adults' in profile:\n",
    "        #more likely to be third party adverisement or website\n",
    "        traffic_sources = traffic_sources + [traffic_sources[4],traffic_sources[4],traffic_sources[4\n",
    "                                    ],traffic_sources[3],traffic_sources[3]]\n",
    "    elif 'urban' in profile:\n",
    "        traffic_sources = traffic_sources + [traffic_sources[1],traffic_sources[2],traffic_sources[2\n",
    "                        ],traffic_sources[3],traffic_sources[3]]\n",
    "    else:\n",
    "        traffic_sources = traffic_sources + [traffic_sources[1],traffic_sources[1],traffic_sources[1\n",
    "                ],traffic_sources[2],traffic_sources[3]]\n",
    "    \n",
    "    return np.random.choice(traffic_sources)"
   ]
  },
  {
   "cell_type": "code",
   "execution_count": null,
   "metadata": {},
   "outputs": [],
   "source": [
    "new_client_df['traffice_source'] = new_client_df['profile'].apply(lambda x: create_traffice_source(x))\n",
    "new_client_df['profile'] = new_client_df['profile'].apply(lambda x: x[0:-5])"
   ]
  },
  {
   "cell_type": "code",
   "execution_count": null,
   "metadata": {},
   "outputs": [],
   "source": [
    "os.environ['GOOGLE_APPLICATION_CREDENTIALS'\n",
    "          ] = '/Users/leighajarett/Documents/service accounts/looker-private-demo-d589d7060d61.json'\n",
    "bq_client = bigquery.Client()"
   ]
  },
  {
   "cell_type": "code",
   "execution_count": null,
   "metadata": {
    "scrolled": true
   },
   "outputs": [],
   "source": [
    "new_client_df.to_gbq('retail_banking.client',if_exists = 'replace')"
   ]
  },
  {
   "cell_type": "code",
   "execution_count": null,
   "metadata": {},
   "outputs": [],
   "source": [
    "#make sure to go update the tables in looker-private-demo from here"
   ]
  },
  {
   "cell_type": "markdown",
   "metadata": {},
   "source": [
    "# Making the Transactions Table"
   ]
  },
  {
   "cell_type": "markdown",
   "metadata": {},
   "source": [
    "Use"
   ]
  },
  {
   "cell_type": "code",
   "execution_count": null,
   "metadata": {},
   "outputs": [],
   "source": [
    "from os import listdir\n",
    "from os.path import isfile, join\n",
    "from datetime import date"
   ]
  },
  {
   "cell_type": "code",
   "execution_count": null,
   "metadata": {},
   "outputs": [],
   "source": [
    "profile_files = [f for f in listdir('/Users/leighajarett/Sparkov_Data_Generation/profiles/'\n",
    "                                   ) if isfile(join('/Users/leighajarett/Sparkov_Data_Generation/profiles/', f))]\n",
    "profile_files = [join('/Users/leighajarett/Sparkov_Data_Generation/profiles/', f) \n",
    "                 for f in profile_files if f.split('_')[0] in ('adults','young')]"
   ]
  },
  {
   "cell_type": "code",
   "execution_count": null,
   "metadata": {},
   "outputs": [],
   "source": [
    "import profile_weights\n",
    "from datagen_transaction import T_Customer, create_header"
   ]
  },
  {
   "cell_type": "code",
   "execution_count": null,
   "metadata": {},
   "outputs": [],
   "source": [
    "import datagen_transaction\n",
    "importlib.reload(datagen_transaction)\n",
    "from datagen_transaction import T_Customer, create_header\n",
    "\n",
    "\n",
    "importlib.reload(profile_weights)"
   ]
  },
  {
   "cell_type": "code",
   "execution_count": null,
   "metadata": {},
   "outputs": [],
   "source": [
    "customers_file = open('clients_data.csv', 'r').readlines() "
   ]
  },
  {
   "cell_type": "code",
   "execution_count": null,
   "metadata": {},
   "outputs": [],
   "source": [
    "headers = create_header(customers_file[0])"
   ]
  },
  {
   "cell_type": "code",
   "execution_count": null,
   "metadata": {},
   "outputs": [],
   "source": [
    "left_out_cards = pd.read_csv('/Users/leighajarett/Documents/retail_banking/missing_card_numbers.csv',header=None)"
   ]
  },
  {
   "cell_type": "code",
   "execution_count": null,
   "metadata": {},
   "outputs": [],
   "source": [
    "for i in left_out_cards[1].astype(int).astype(str):\n",
    "    print(i)"
   ]
  },
  {
   "cell_type": "code",
   "execution_count": null,
   "metadata": {},
   "outputs": [],
   "source": [
    "len(customers_file)"
   ]
  },
  {
   "cell_type": "code",
   "execution_count": null,
   "metadata": {},
   "outputs": [],
   "source": [
    "len(cards)"
   ]
  },
  {
   "cell_type": "code",
   "execution_count": null,
   "metadata": {
    "scrolled": true
   },
   "outputs": [],
   "source": [
    "count = 0\n",
    "for i in customers_file:\n",
    "    #print(i.split('|')[1])\n",
    "    if i.split('|')[1] in list(left_out_cards[1].astype(int).astype(str)):\n",
    "        count+=1\n",
    "        print(count)"
   ]
  },
  {
   "cell_type": "code",
   "execution_count": null,
   "metadata": {
    "scrolled": true
   },
   "outputs": [],
   "source": [
    "txns = []\n",
    "cards_w_txns = []\n",
    "counter = 0\n",
    "len_txns = 0\n",
    "for cust in customers_file[1:]:\n",
    "    if cust.split('|')[1] in list(left_out_cards[1].astype(int).astype(str)):\n",
    "        for m in profile_files:\n",
    "        #for m in ['/Users/leighajarett/Sparkov_Data_Generation/profiles/young_adults_male_rural.json']:\n",
    "            pro_name = m.split('profiles')[-1]\n",
    "            pro_name = pro_name[1:]\n",
    "            parse_index = m.index('profiles') + 9\n",
    "            m_fraud = m[:parse_index] +'fraud_' + m[parse_index:]\n",
    "            pro = open(m, 'r').read()\n",
    "            pro_fraud = open(m_fraud, 'r').read()\n",
    "            pro_name_fraud = 'fraud_' + pro_name\n",
    "\n",
    "            curr_profile = pro_name\n",
    "            curr_fraud_profile = pro_name_fraud\n",
    "            profile_name = m\n",
    "\n",
    "            card_id = rev_card_lookup[cust.split('|')[1]]\n",
    "            cards_w_txns.append(card_id)\n",
    "            create_d = clients_[clients_['card.card_id'] == card_id]['card.create_date']\n",
    "            create_d = date(int(create_d.values[0].split('-')[0]),\n",
    "                             int(create_d.values[0].split('-')[1]),\n",
    "                             int(create_d.values[0].split('-')[2]))\n",
    "\n",
    "            end_d = clients_[clients_['card.card_id'] == card_id]['card.end_date']\n",
    "            if end_d.values[0] is None:\n",
    "                end_d = date(2020,12,31)\n",
    "                if (end_d-create_d).days < 10:\n",
    "                    end_d = date(2021,1,1) + datetime.timedelta(days=10)\n",
    "            else:\n",
    "                end_d = date(int(end_d.values[0].split('-')[0]),\n",
    "                     int(end_d.values[0].split('-')[1]),\n",
    "                     int(end_d.values[0].split('-')[2]))\n",
    "            if create_d > date(2020,12,31):\n",
    "                create_d = date(2020,12,31)\n",
    "                end_d = date(2021,1,1) + datetime.timedelta(days=10)\n",
    "\n",
    "            profile = profile_weights.Profile(pro,create_d,end_d)\n",
    "            t_cust = T_Customer(cust, profile, headers, fake)\n",
    "\n",
    "            if t_cust.attrs['profile'] == curr_profile:\n",
    "                merch = pd.read_csv('data/merchants.csv', sep='|')\n",
    "                is_fraud= 0\n",
    "                fraud_flag = randint(0,100) \n",
    "                fraud_dates = []\n",
    "\n",
    "                # decide if we generate fraud or not\n",
    "                if fraud_flag < 30: #11->25\n",
    "                    fraud_interval = randint(1,1) #7->1\n",
    "                    inter_val = (end_d-create_d).days-7\n",
    "                    # rand_interval is the random no of days to be added to start date\n",
    "                    if inter_val <= 0:\n",
    "                        inter_val = 1\n",
    "                    rand_interval = randint(1, inter_val)\n",
    "                    #random start date is selected\n",
    "                    newstart = create_d + datetime.timedelta(days=rand_interval)\n",
    "                    # based on the fraud interval , random enddate is selected\n",
    "                    newend = newstart + datetime.timedelta(days=fraud_interval)\n",
    "                    # we assume that the fraud window can be between 1 to 7 days #7->1\n",
    "                    profile = profile_weights.Profile(pro_fraud, newstart, newend)\n",
    "                    t_cust = T_Customer(cust, profile, headers, fake)\n",
    "                    merch = pd.read_csv('data/merchants.csv' , sep='|')\n",
    "                    is_fraud = 1\n",
    "                    temp_tx_data = profile.sample_from(is_fraud)\n",
    "                    fraud_dates = temp_tx_data[3]\n",
    "                    txns = txns + t_cust.print_trans(temp_tx_data,is_fraud, fraud_dates,merch)\n",
    "                    #parse_index = m.index('profiles/') + 9\n",
    "                    #m = m[:parse_index] +'fraud_' + m[parse_index:]\n",
    "\n",
    "                # we're done with fraud (or didn't do it) but still need regular transactions\n",
    "                # we pass through our previously selected fraud dates (if any) to filter them\n",
    "                # out of regular transactions\n",
    "                profile = profile_weights.Profile(pro, create_d, end_d)\n",
    "                merch = pd.read_csv('data/merchants.csv', sep='|')\n",
    "                is_fraud =0\n",
    "                temp_tx_data = profile.sample_from(is_fraud)\n",
    "                txns = txns + t_cust.print_trans(temp_tx_data, is_fraud, fraud_dates, merch)\n",
    "#                 len_txns += len(txns)\n",
    "\n",
    "#                 if counter == 0: \n",
    "#                     pd.DataFrame(txns).to_gbq('retail_banking.test_trans',if_exists = 'replace')\n",
    "#                 else:\n",
    "#                     pd.DataFrame(txns).to_gbq('retail_banking.test_trans',if_exists = 'append')\n",
    "#                 print('Added ', len(txns),' to the table, for card ', card_id)\n",
    "                counter += 1\n",
    "                print(counter)"
   ]
  },
  {
   "cell_type": "code",
   "execution_count": null,
   "metadata": {},
   "outputs": [],
   "source": [
    "os.environ['GOOGLE_APPLICATION_CREDENTIALS'\n",
    "          ] = '/Users/leighajarett/Documents/service accounts/looker-private-demo-d589d7060d61.json'\n",
    "bq_client = bigquery.Client()"
   ]
  },
  {
   "cell_type": "code",
   "execution_count": null,
   "metadata": {},
   "outputs": [],
   "source": [
    "from google.oauth2 import service_account\n",
    "credentials = service_account.Credentials.from_service_account_file(\n",
    "    '/Users/leighajarett/Documents/service accounts/looker-private-demo-d589d7060d61.json')"
   ]
  },
  {
   "cell_type": "code",
   "execution_count": null,
   "metadata": {},
   "outputs": [],
   "source": [
    "pd.DataFrame(txns).to_gbq('retail_banking.card_transactions',if_exists = 'append',credentials = credentials)"
   ]
  },
  {
   "cell_type": "code",
   "execution_count": null,
   "metadata": {},
   "outputs": [],
   "source": [
    "os.environ['GOOGLE_APPLICATION_CREDENTIALS'\n",
    "          ] = '/Users/leighajarett/Documents/service accounts/lookerdata-e7f3d750308e.json'\n",
    "bq_client = bigquery.Client()"
   ]
  },
  {
   "cell_type": "markdown",
   "metadata": {},
   "source": [
    "# Credit Card Payments"
   ]
  },
  {
   "cell_type": "markdown",
   "metadata": {},
   "source": [
    "Payments:\n",
    "    50% of people will be carrying a balance\n",
    "    5% of people will have defaulted on a credit card\n",
    "    45% of people pay their credit card off on time every month"
   ]
  },
  {
   "cell_type": "markdown",
   "metadata": {},
   "source": [
    "Randomly choose day of month their payments are due for each card"
   ]
  },
  {
   "cell_type": "code",
   "execution_count": null,
   "metadata": {},
   "outputs": [],
   "source": [
    "#Calculate the balance for each day, for each card....\n",
    "\n",
    "sql = \"SELECT card.card_id  AS card_card_id, \\\n",
    "        TIMESTAMP(CONCAT(card_transactions.trans_date,' ',card_transactions.trans_time)) \\\n",
    "                AS card_transactions_transaction_date, \\\n",
    "        cast(card_transactions.amount as FLOAT64)  AS card_transactions_amount,\\\n",
    "        sum(cast(card_transactions.amount as FLOAT64)) OVER \\\n",
    "                (PARTITION BY card.card_id, date \\\n",
    "                ORDER BY TIMESTAMP(CONCAT(card_transactions.trans_date,' ',card_transactions.trans_time))asc) \\\n",
    "FROM `looker-private-demo`.retail_banking.card_transactions  AS card_transactions \\\n",
    "LEFT JOIN retail_banking.card  AS card ON card.card_number = card_transactions.cc_number \\\n",
    "where card.card_id is not null \\\n",
    "order by card.card_id , TIMESTAMP(CONCAT(card_transactions.trans_date,' ',card_transactions.trans_time)) \"\n"
   ]
  },
  {
   "cell_type": "code",
   "execution_count": null,
   "metadata": {},
   "outputs": [],
   "source": [
    "os.environ['GOOGLE_APPLICATION_CREDENTIALS'\n",
    "          ] = '/Users/leighajarett/Documents/service accounts/looker-private-demo-d589d7060d61.json'\n",
    "bq_client = bigquery.Client()"
   ]
  },
  {
   "cell_type": "code",
   "execution_count": null,
   "metadata": {
    "scrolled": true
   },
   "outputs": [],
   "source": [
    "transactions = bq_client.query(sql).to_dataframe()\n",
    "sql = 'SELECT * FROM `looker-private-demo.retail_banking.card` '\n",
    "cards = bq_client.query(sql).to_dataframe()"
   ]
  },
  {
   "cell_type": "code",
   "execution_count": null,
   "metadata": {},
   "outputs": [],
   "source": [
    "cards['payment_day_of_month'] = cards['card_id'].apply(lambda x: randrange(1,28))"
   ]
  },
  {
   "cell_type": "code",
   "execution_count": null,
   "metadata": {},
   "outputs": [],
   "source": [
    "# cards.to_gbq('retail_banking.base_card',if_exists = 'replace')\n",
    "\n",
    "# sql = \"create or replace table `looker-private-demo.retail_banking.base_card`  \\\n",
    "# as \\\n",
    "# SELECT * except(date, end_date) \\\n",
    "#   , CAST(PARSE_DATETIME('%Y-%m-%d', date) as date) as date \\\n",
    "#   , CAST(PARSE_DATETIME('%Y-%m-%d', end_date) as date) as end_date \\\n",
    "#   FROM `looker-private-demo.retail_banking.base_card`\"\n",
    "# bq_client.query(sql)"
   ]
  },
  {
   "cell_type": "code",
   "execution_count": null,
   "metadata": {},
   "outputs": [],
   "source": [
    "#pay balance completely (no penalty) 0 \n",
    "#pay balance partially (interest + maybe late fee) 1 \n",
    "#do not pay balance at all (interest + maybe late fee) 2 \n",
    "\n",
    "#keep record of past 3 months...\n",
    "    # * * 0 --> if they have not missed a payment last month there is only 10% chance 2, 10% chance of 1\n",
    "    # 2 2 2 --> if they missed their payment the past 3 months there is a 90% chance they miss it now\n",
    "    # * * 1/2 --> if they paid partially last month, and missed or paid partially before, 20% chance of 1 20% chance of 2\n"
   ]
  },
  {
   "cell_type": "code",
   "execution_count": null,
   "metadata": {
    "scrolled": true
   },
   "outputs": [],
   "source": [
    "#Figure out the dates payments are due for each card\n",
    "\n",
    "payment_dates = []\n",
    "cards['end_date'] = pd.to_datetime(cards['end_date'])\n",
    "\n",
    "days_before_payment = [19,18,17,16,15,13,12,11,10,9,8,7,6,\n",
    " 5,5,5,\n",
    " 4,4,4,\n",
    " 3,3,3,3,3,3,3,\n",
    " 2,2,2,2,2,2,2,2,2,\n",
    " 1,1,1,1,1,1,1,1,1,1,1,1,1,1,1,1,1,1,1,\n",
    " 0,0,0,0,0,0,0,0,0,0,0,0,0,0,0,0,0,0,0,0,0]\n",
    "\n",
    "interest_and_latefees = {}\n",
    "\n",
    "card_ids = list(cards['card_id'])\n",
    "random.shuffle(card_ids)\n",
    "full_payers = card_ids[0:int(len(card_ids)/2)]\n",
    "\n",
    "last_card = 0\n",
    "for c_id in cards['card_id'].unique():\n",
    "    start_date = pd.to_datetime(cards.loc[cards['card_id'] == c_id,'date'].values[0])\n",
    "\n",
    "    end_date = pd.to_datetime(cards.loc[cards['card_id'] == c_id,'end_date'].values[0])\n",
    "    if pd.isna(end_date):\n",
    "        end_date = date(2020,12,31)\n",
    "    else:\n",
    "        ts = (end_date - np.datetime64('1970-01-01')) / np.timedelta64(1, 's') \n",
    "        end_date = datetime.datetime.utcfromtimestamp(ts)\n",
    "    \n",
    "    payment_day = cards.loc[cards['card_id'] == c_id,'payment_day_of_month'].values[0]\n",
    "\n",
    "    #if the start day is before the payment day, then payment period starts previous month\n",
    "    if start_date.day < payment_day:\n",
    "        period_start = date(start_date.year, start_date.month, payment_day) - relativedelta(months=+1)\n",
    "    else:\n",
    "        period_start = date(start_date.year, start_date.month, payment_day)\n",
    "\n",
    "\n",
    "    #if the end day is after the payment day, then payment period starts the previous\n",
    "    if end_date.day > payment_day:\n",
    "        last_period_start = date(end_date.year, end_date.month, payment_day) \n",
    "    else:\n",
    "        last_period_start = date(end_date.year, end_date.month, payment_day) - relativedelta(months=+1)\n",
    "    \n",
    "    while period_start <= last_period_start:\n",
    "        if last_card != c_id:\n",
    "            last_3_payments = [0,0,0]\n",
    "        \n",
    "        payment_date = {}\n",
    "        #payment_date['card_number'] = card_lookup[c_id]\n",
    "        payment_date['card_number'] = cards.loc[cards['card_id'] == c_id,'card_number'].values[0]\n",
    "        payment_date['card_id'] = c_id\n",
    "        payment_date['period_start'] = period_start\n",
    "        period_end = period_start + relativedelta(months=+1)\n",
    "        payment_date['period_end'] = period_end\n",
    "        payment_date['payment_due_date'] = period_end + relativedelta(months=+1)\n",
    "        \n",
    "        #check to see if this person pays in full each month \n",
    "        if c_id in full_payers:\n",
    "            payment_date['is_full_payer'] = 1\n",
    "            #sometimes people make more than one payment a month\n",
    "            if random.choice([1,2,3,4,5]) == 1 and last_3_payments[2] ==0:\n",
    "                #print(c_id, period_start)\n",
    "                other_payment = copy.deepcopy(payment_date)\n",
    "                other_payment['payment_type'] = 1\n",
    "                other_payment['balance_percent'] = random.gauss(50,15)\n",
    "                other_payment['payment_completed_date'] = period_end + relativedelta(months=+1) -datetime.timedelta(\n",
    "                    days=random.choice(list(range(20,28))))\n",
    "                payment_dates.append(other_payment)\n",
    "                last_3_payments.pop(0)\n",
    "                last_3_payments.append(1)\n",
    "                \n",
    "            payment_date['payment_type'] = 0\n",
    "            payment_date['balance_percent'] = 100\n",
    "            payment_date['payment_completed_date'] = period_end + relativedelta(months=+1) -datetime.timedelta(\n",
    "                days=random.choice(days_before_payment))\n",
    "            payment_dates.append(payment_date)\n",
    "            last_3_payments.pop(0)\n",
    "            last_3_payments.append(0)\n",
    "        \n",
    "        else:\n",
    "            payment_date['is_full_payer'] = 0\n",
    "            rand_int = random.randint(1,100)\n",
    "            if last_3_payments[2] == 0:\n",
    "                #if they have not missed a payment last month there is only 20 % chance they default or pay partially\n",
    "                if rand_int <= 10: #pay partially\n",
    "                    payment_date['payment_type'] = 1\n",
    "                    payment_date['balance_percent'] = random.gauss(50,15)\n",
    "                    payment_date['payment_completed_date'] = period_end + relativedelta(\n",
    "                        months=+1) -datetime.timedelta(days=random.choice(days_before_payment))\n",
    "                    payment_dates.append(payment_date)\n",
    "                    last_3_payments.pop(0)\n",
    "                    last_3_payments.append(1)\n",
    "                    \n",
    "                elif rand_int > 20: #pay balance in full\n",
    "                    payment_date['payment_type'] = 0\n",
    "                    payment_date['balance_percent'] = 100\n",
    "                    payment_date['payment_completed_date'] = period_end + relativedelta(\n",
    "                        months=+1) -datetime.timedelta(days=random.choice(days_before_payment))\n",
    "                    payment_dates.append(payment_date)\n",
    "                    last_3_payments.pop(0)\n",
    "                    last_3_payments.append(0)\n",
    "                \n",
    "                else: #default\n",
    "                    payment_date['payment_type'] = np.nan\n",
    "                    payment_date['balance_percent'] = 0\n",
    "                    payment_date['payment_completed_date'] = np.nan\n",
    "                    payment_dates.append(payment_date)\n",
    "                    last_3_payments.pop(0)\n",
    "                    last_3_payments.append(2)\n",
    "            \n",
    "            else:\n",
    "                if random.choice([1,2,3,4,5]) == 1:\n",
    "                    other_payment = copy.deepcopy(payment_date)\n",
    "                    other_payment['payment_type'] = 1\n",
    "                    other_payment['balance_percent'] = random.gauss(50,15)\n",
    "                    other_payment['payment_completed_date'] = period_end + relativedelta(months=+1\n",
    "                                                    ) -datetime.timedelta(days=random.choice(list(range(20,28))))\n",
    "                    payment_dates.append(other_payment)\n",
    "                    last_3_payments.pop(0)\n",
    "                    last_3_payments.append(1)\n",
    "                if last_3_payments[0] == 2 and last_3_payments[1] == 2:\n",
    "                    ### if they missed their payment the past 3 months there is a 80% chance they default\n",
    "                    if rand_int <= 80:\n",
    "                        payment_date['payment_type'] = np.nan\n",
    "                        payment_date['balance_percent'] = 0\n",
    "                        payment_date['payment_completed_date'] = np.nan\n",
    "                        payment_dates.append(payment_date)\n",
    "                        last_3_payments.pop(0)\n",
    "                        last_3_payments.append(2)\n",
    "                    elif rand_int <= 90:\n",
    "                        payment_date['payment_type'] = 1\n",
    "                        payment_date['balance_percent'] = random.gauss(50,15)\n",
    "                        payment_date['payment_completed_date'] = period_end + relativedelta(\n",
    "                            months=+1) -datetime.timedelta(days=random.choice(days_before_payment))\n",
    "                        payment_dates.append(payment_date)\n",
    "                        last_3_payments.pop(0)\n",
    "                        last_3_payments.append(1)\n",
    "                    else:\n",
    "                        payment_date['payment_type'] = 0\n",
    "                        payment_date['balance_percent'] = 100\n",
    "                        payment_date['payment_completed_date'] = period_end + relativedelta(\n",
    "                            months=+1) -datetime.timedelta(days=random.choice(days_before_payment))\n",
    "                        payment_dates.append(payment_date)\n",
    "                        last_3_payments.pop(0)\n",
    "                        last_3_payments.append(0)\n",
    "                \n",
    "                else: \n",
    "                    if rand_int <= 20:\n",
    "                        payment_date['payment_type'] = np.nan\n",
    "                        payment_date['balance_percent'] = 0\n",
    "                        payment_date['payment_completed_date'] = np.nan\n",
    "                        payment_dates.append(payment_date)\n",
    "                        last_3_payments.pop(0)\n",
    "                        last_3_payments.append(2)\n",
    "                    elif rand_int <= 40:\n",
    "                        payment_date['payment_type'] = 1\n",
    "                        payment_date['balance_percent'] = random.gauss(50,15)\n",
    "                        payment_date['payment_completed_date'] = period_end + relativedelta(\n",
    "                            months=+1) -datetime.timedelta(days=random.choice(days_before_payment))\n",
    "                        payment_dates.append(payment_date)\n",
    "                        last_3_payments.pop(0)\n",
    "                        last_3_payments.append(1)\n",
    "                    else:\n",
    "                        payment_date['payment_type'] = 0\n",
    "                        payment_date['balance_percent'] = 100\n",
    "                        payment_date['payment_completed_date'] = period_end + relativedelta(\n",
    "                            months=+1) -datetime.timedelta(days=random.choice(days_before_payment))\n",
    "                        payment_dates.append(payment_date)\n",
    "                        last_3_payments.pop(0)\n",
    "                        last_3_payments.append(0)\n",
    "        \n",
    "        last_card = c_id\n",
    "        period_start = period_start + relativedelta(months=+1)"
   ]
  },
  {
   "cell_type": "code",
   "execution_count": null,
   "metadata": {},
   "outputs": [],
   "source": [
    "payment_date"
   ]
  },
  {
   "cell_type": "code",
   "execution_count": null,
   "metadata": {},
   "outputs": [],
   "source": [
    "from google.oauth2 import service_account\n",
    "credentials = service_account.Credentials.from_service_account_file(\n",
    "    '/Users/leighajarett/Documents/service accounts/looker-private-demo-d589d7060d61.json')\n",
    "\n",
    "payment_dates = pd.DataFrame(payment_dates)\n",
    "pd.DataFrame(payment_dates).to_gbq('finserv_staging.card_payment_dates',if_exists = 'replace',credentials = credentials)"
   ]
  },
  {
   "cell_type": "code",
   "execution_count": null,
   "metadata": {},
   "outputs": [],
   "source": [
    "len(payment_dates)"
   ]
  },
  {
   "cell_type": "code",
   "execution_count": null,
   "metadata": {},
   "outputs": [],
   "source": [
    "sql = \"with trn_pmnt as (select * from  `looker-private-demo.retail_banking.card_transactions` as tns \\\n",
    "left join `looker-private-demo.finserv_staging.card_payment_dates` as pmnts \\\n",
    "on tns.cc_number = pmnts.card_number and timestamp(tns.trans_date) >= timestamp(pmnts.period_start) \\\n",
    "  and timestamp(tns.trans_date) < timestamp(pmnts.period_end) \\\n",
    "order by tns.cc_number, tns.trans_date) \\\n",
    "select * except (card_id, payment_due_date), due.card_id, due.payment_due_date \\\n",
    "from ( \\\n",
    "select card_id, payment_due_date, max(balance) as period_transactions_total from ( \\\n",
    "  select card_id, payment_due_date, trans_id, \\\n",
    "    TIMESTAMP(CONCAT(trn_pmnt.trans_date,' ',trn_pmnt.trans_time)) as trans_date, amount, \\\n",
    "  sum(cast(trn_pmnt.amount as FLOAT64)) OVER \\\n",
    "        (PARTITION BY trn_pmnt.card_id, payment_due_date \\\n",
    "        ORDER BY TIMESTAMP(CONCAT(trn_pmnt.trans_date,' ',trn_pmnt.trans_time))asc) as balance \\\n",
    "  from trn_pmnt ) as t \\\n",
    "  group by 1,2 \\\n",
    ") as due \\\n",
    "left join  `looker-private-demo`.finserv_staging.card_payment_dates as pmnts \\\n",
    "on due.card_id = pmnts.card_id and due.payment_due_date = pmnts.payment_due_date\" "
   ]
  },
  {
   "cell_type": "code",
   "execution_count": null,
   "metadata": {},
   "outputs": [],
   "source": [
    "payments_w_amount = bq_client.query(sql).to_dataframe()"
   ]
  },
  {
   "cell_type": "code",
   "execution_count": null,
   "metadata": {},
   "outputs": [],
   "source": [
    "payments_w_amount = payments_w_amount[~payments_w_amount['card_id'].isnull()].reset_index()"
   ]
  },
  {
   "cell_type": "code",
   "execution_count": null,
   "metadata": {},
   "outputs": [],
   "source": [
    "last_card = 0\n",
    "payments_w_amount['remaining_balance_last_period'] = 0\n",
    "payments_w_amount['total_amount_owed'] = 0\n",
    "payments_w_amount['total_amount_paid'] = 0\n",
    "payments_w_amount['total_amount_paid'] = 0\n",
    "payments_w_amount['total_interest_applied'] = 0\n",
    "\n",
    "interest_rates = dict(zip(cards['type'].unique(),[.003, .005, .0035, .0025, .004]))\n",
    "\n",
    "for i in range(len(payments_w_amount)):\n",
    "    payment = payments_w_amount.loc[i]\n",
    "    print(payment)\n",
    "    \n",
    "    if payment['card_id'] != last_card:\n",
    "        remaining_balance_last_period = 0\n",
    "        days_since_last_due = 0\n",
    "    else:\n",
    "        if payment['payment_completed_date'] is not None:\n",
    "            completed_date = date(int(payment['payment_completed_date'].split('-')[0]),\n",
    "                             int(payment['payment_completed_date'].split('-')[1]),\n",
    "                             int(payment['payment_completed_date'].split('-')[2]))\n",
    "        else:\n",
    "            completed_date = date(int(payment['payment_due_date'].split('-')[0]),\n",
    "                             int(payment['payment_due_date'].split('-')[1]),\n",
    "                             int(payment['payment_due_date'].split('-')[2]))\n",
    "            \n",
    "        days_since_last_due = (completed_date - date(int(last_due.split('-')[0]),int(last_due.split('-')[1]),\n",
    "                                        int(last_due.split('-')[2]))).days\n",
    "        \n",
    "    \n",
    "    card_type = cards[cards['card_id'] == payment['card_id']]['type'].values[0]\n",
    "    if days_since_last_due > 0:\n",
    "        interest = remaining_balance_last_period*days_since_last_due*interest_rates[card_type]\n",
    "    else: \n",
    "        interest = 0\n",
    "  \n",
    "    \n",
    "    total_amount_owed =  remaining_balance_last_period + payment['period_transactions_total'] + interest\n",
    "    total_amount_paid = total_amount_owed*(payment['balance_percent']/100)\n",
    "    remaining_balance_this_period = total_amount_owed - total_amount_paid\n",
    "    \n",
    "    payments_w_amount.loc[i,'total_interest_applied'] = interest\n",
    "    payments_w_amount.loc[i,'remaining_balance_last_period'] = remaining_balance_last_period\n",
    "    payments_w_amount.loc[i,'total_amount_owed'] = total_amount_owed\n",
    "    payments_w_amount.loc[i,'total_amount_paid'] = total_amount_paid\n",
    "    payments_w_amount.loc[i,'remaining_balance_this_period'] = remaining_balance_this_period\n",
    "    \n",
    "    #print(interest, remaining_balance_last_period, total_amount_owed, total_amount_paid, remaining_balance_this_period)\n",
    "    #print(days_since_last_due, last_due, completed_date)\n",
    "    remaining_balance_last_period = remaining_balance_this_period\n",
    "    last_due = payment['payment_due_date'] \n",
    "    last_card = payment['card_id']"
   ]
  }
 ],
 "metadata": {
  "kernelspec": {
   "display_name": "Python 3",
   "language": "python",
   "name": "python3"
  },
  "language_info": {
   "codemirror_mode": {
    "name": "ipython",
    "version": 3
   },
   "file_extension": ".py",
   "mimetype": "text/x-python",
   "name": "python",
   "nbconvert_exporter": "python",
   "pygments_lexer": "ipython3",
   "version": "3.7.4"
  }
 },
 "nbformat": 4,
 "nbformat_minor": 2
}
